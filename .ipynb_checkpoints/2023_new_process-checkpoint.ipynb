{
 "cells": [
  {
   "cell_type": "code",
   "execution_count": 1,
   "id": "ecfb26ad",
   "metadata": {},
   "outputs": [],
   "source": [
    "import os\n",
    "import pandas as pd\n",
    "import numpy as np\n",
    "import csv\n",
    "import re"
   ]
  },
  {
   "cell_type": "code",
   "execution_count": 2,
   "id": "6ff29c87",
   "metadata": {},
   "outputs": [
    {
     "name": "stderr",
     "output_type": "stream",
     "text": [
      "D:\\Program_Files\\anaconda\\lib\\site-packages\\scipy\\__init__.py:146: UserWarning: A NumPy version >=1.16.5 and <1.23.0 is required for this version of SciPy (detected version 1.24.2\n",
      "  warnings.warn(f\"A NumPy version >={np_minversion} and <{np_maxversion}\"\n"
     ]
    }
   ],
   "source": [
    "import cntext as ct\n",
    "#help(ct)"
   ]
  },
  {
   "cell_type": "code",
   "execution_count": 3,
   "id": "0536f1b6",
   "metadata": {},
   "outputs": [],
   "source": [
    "from harvesttext import HarvestText\n",
    "ht = HarvestText()"
   ]
  },
  {
   "cell_type": "code",
   "execution_count": 4,
   "id": "77d5a34c",
   "metadata": {},
   "outputs": [],
   "source": [
    "from pprint import pprint\n",
    "\n",
    "# Gensim\n",
    "import gensim\n",
    "import gensim.corpora as corpora\n",
    "from gensim.utils import simple_preprocess\n",
    "from gensim.models import CoherenceModel\n",
    " \n",
    "# spacy for lemmatization\n",
    "import spacy\n",
    " \n",
    "# Plotting tools\n",
    "import pyLDAvis\n",
    "import pyLDAvis.gensim  # don't skip this\n",
    "import matplotlib.pyplot as plt\n",
    "%matplotlib inline\n",
    "\n",
    "# Enable logging for gensim - optional\n",
    "import logging\n",
    "logging.basicConfig(format='%(asctime)s : %(levelname)s : %(message)s', level=logging.ERROR)\n",
    "\n",
    "import warnings\n",
    "warnings.filterwarnings(\"ignore\",category=DeprecationWarning)\n",
    "\n",
    "from sklearn.feature_extraction.text import TfidfVectorizer\n",
    "from sklearn.decomposition import LatentDirichletAllocation"
   ]
  },
  {
   "cell_type": "code",
   "execution_count": 5,
   "id": "fcf221d8",
   "metadata": {},
   "outputs": [
    {
     "data": {
      "text/html": [
       "<div>\n",
       "<style scoped>\n",
       "    .dataframe tbody tr th:only-of-type {\n",
       "        vertical-align: middle;\n",
       "    }\n",
       "\n",
       "    .dataframe tbody tr th {\n",
       "        vertical-align: top;\n",
       "    }\n",
       "\n",
       "    .dataframe thead th {\n",
       "        text-align: right;\n",
       "    }\n",
       "</style>\n",
       "<table border=\"1\" class=\"dataframe\">\n",
       "  <thead>\n",
       "    <tr style=\"text-align: right;\">\n",
       "      <th></th>\n",
       "      <th>content</th>\n",
       "      <th>date</th>\n",
       "      <th>time</th>\n",
       "      <th>user_id</th>\n",
       "      <th>cut_content</th>\n",
       "      <th>del</th>\n",
       "    </tr>\n",
       "  </thead>\n",
       "  <tbody>\n",
       "    <tr>\n",
       "      <th>0</th>\n",
       "      <td>#上海疫情##上海民生##就这一刻##返乡# 上海返乡潮开启，安徽、江苏和河南人最多，隔离和...</td>\n",
       "      <td>2022-04-24</td>\n",
       "      <td>2022-04-24 08:33:43</td>\n",
       "      <td>1000074972</td>\n",
       "      <td># 上海 疫情 ## 上海 民生 ## 就 这 一刻 ## 返乡 #   上海 返乡 潮 开...</td>\n",
       "      <td>疫情 民生 一刻 返乡   返乡 潮 开启 安徽 江苏 河南人 隔离 做 核酸 钱 返乡 潮...</td>\n",
       "    </tr>\n",
       "    <tr>\n",
       "      <th>1</th>\n",
       "      <td>#上海疫情##上海民生##上海现状# .上海的现状为什么会变成这样我忍不住地继续瞎想外行领导...</td>\n",
       "      <td>2022-04-23</td>\n",
       "      <td>2022-04-23 05:46:14</td>\n",
       "      <td>1000074972</td>\n",
       "      <td># 上海 疫情 ## 上海 民生 ## 上海 现状 #   . 上海 的 现状 为什么 会 ...</td>\n",
       "      <td>疫情 民生 现状   现状 忍不住 瞎 想 外行 领导 内行 内行 闭嘴 同理 衍生 行业 ...</td>\n",
       "    </tr>\n",
       "    <tr>\n",
       "      <th>2</th>\n",
       "      <td>#上海疫情##上海民生#      无间道，罗生门，可能本来就是人生如戏吧，是我太认真了。算...</td>\n",
       "      <td>2022-04-22</td>\n",
       "      <td>2022-04-22 11:47:31</td>\n",
       "      <td>1000074972</td>\n",
       "      <td># 上海 疫情 ## 上海 民生 #             无间道 ， 罗生门 ， 可能 ...</td>\n",
       "      <td>疫情 民生             无间道 罗生门 本来 人生 如戏 是我太 算了 干脆 眼...</td>\n",
       "    </tr>\n",
       "    <tr>\n",
       "      <th>3</th>\n",
       "      <td>#上海民生##上海疫情##上海团长# 还是你牛逼呀，团长。开个车照送，还是封控小区。</td>\n",
       "      <td>2022-04-22</td>\n",
       "      <td>2022-04-22 09:41:33</td>\n",
       "      <td>1000074972</td>\n",
       "      <td># 上海 民生 ## 上海 疫情 ## 上海 团长 #   还是 你 牛 逼 呀 ， 团长 ...</td>\n",
       "      <td>民生 疫情 团长   牛 逼 团长 开个 车照 送 封控 小区</td>\n",
       "    </tr>\n",
       "    <tr>\n",
       "      <th>4</th>\n",
       "      <td>明康汇的采购员你成功地把你们老板一个月来的光辉形象給黑了。@明康汇 @市场监管 @江丄孤舟 ...</td>\n",
       "      <td>2022-04-21</td>\n",
       "      <td>2022-04-21 08:54:29</td>\n",
       "      <td>1000074972</td>\n",
       "      <td>明康汇 的 采购员 你 成功 地 把 你们 老板 一个月 来 的 光辉 形象 給黑 了 。 ...</td>\n",
       "      <td>明康汇 采购员 成功 老板 一个月 光辉 形象 給黑 明康汇   市场监管   江 丄 孤 ...</td>\n",
       "    </tr>\n",
       "  </tbody>\n",
       "</table>\n",
       "</div>"
      ],
      "text/plain": [
       "                                             content        date  \\\n",
       "0  #上海疫情##上海民生##就这一刻##返乡# 上海返乡潮开启，安徽、江苏和河南人最多，隔离和...  2022-04-24   \n",
       "1  #上海疫情##上海民生##上海现状# .上海的现状为什么会变成这样我忍不住地继续瞎想外行领导...  2022-04-23   \n",
       "2  #上海疫情##上海民生#      无间道，罗生门，可能本来就是人生如戏吧，是我太认真了。算...  2022-04-22   \n",
       "3        #上海民生##上海疫情##上海团长# 还是你牛逼呀，团长。开个车照送，还是封控小区。   2022-04-22   \n",
       "4  明康汇的采购员你成功地把你们老板一个月来的光辉形象給黑了。@明康汇 @市场监管 @江丄孤舟 ...  2022-04-21   \n",
       "\n",
       "                  time     user_id  \\\n",
       "0  2022-04-24 08:33:43  1000074972   \n",
       "1  2022-04-23 05:46:14  1000074972   \n",
       "2  2022-04-22 11:47:31  1000074972   \n",
       "3  2022-04-22 09:41:33  1000074972   \n",
       "4  2022-04-21 08:54:29  1000074972   \n",
       "\n",
       "                                         cut_content  \\\n",
       "0  # 上海 疫情 ## 上海 民生 ## 就 这 一刻 ## 返乡 #   上海 返乡 潮 开...   \n",
       "1  # 上海 疫情 ## 上海 民生 ## 上海 现状 #   . 上海 的 现状 为什么 会 ...   \n",
       "2  # 上海 疫情 ## 上海 民生 #             无间道 ， 罗生门 ， 可能 ...   \n",
       "3  # 上海 民生 ## 上海 疫情 ## 上海 团长 #   还是 你 牛 逼 呀 ， 团长 ...   \n",
       "4  明康汇 的 采购员 你 成功 地 把 你们 老板 一个月 来 的 光辉 形象 給黑 了 。 ...   \n",
       "\n",
       "                                                 del  \n",
       "0  疫情 民生 一刻 返乡   返乡 潮 开启 安徽 江苏 河南人 隔离 做 核酸 钱 返乡 潮...  \n",
       "1  疫情 民生 现状   现状 忍不住 瞎 想 外行 领导 内行 内行 闭嘴 同理 衍生 行业 ...  \n",
       "2  疫情 民生             无间道 罗生门 本来 人生 如戏 是我太 算了 干脆 眼...  \n",
       "3                   民生 疫情 团长   牛 逼 团长 开个 车照 送 封控 小区   \n",
       "4  明康汇 采购员 成功 老板 一个月 光辉 形象 給黑 明康汇   市场监管   江 丄 孤 ...  "
      ]
     },
     "execution_count": 5,
     "metadata": {},
     "output_type": "execute_result"
    }
   ],
   "source": [
    "#读入数据\n",
    "group_1_del = pd.read_csv('D:\\my_research\\gensim_group\\group_1\\group_1_final.csv',encoding='utf-8')\n",
    "group_1_del.columns = ['0','content','date','time','user_id','cut_content','del']\n",
    "group_1_del = group_1_del.drop(columns='0')\n",
    "group_1_del = group_1_del.dropna(axis=0, how='any')\n",
    "group_1_del.head()"
   ]
  },
  {
   "cell_type": "code",
   "execution_count": 6,
   "id": "a1a0dc59",
   "metadata": {},
   "outputs": [],
   "source": [
    "import pyLDAvis.sklearn\n",
    "import pyLDAvis\n",
    "import pyLDAvis.gensim"
   ]
  },
  {
   "cell_type": "code",
   "execution_count": null,
   "id": "a5288155",
   "metadata": {},
   "outputs": [],
   "source": [
    "ht0 = HarvestText()\n",
    "text1 = \"回复@钱旭明QXM:[嘻嘻][嘻嘻] //@钱旭明QXM:杨大哥[good][good]\"\n",
    "ht0.clean_text(text1)\n"
   ]
  },
  {
   "cell_type": "code",
   "execution_count": null,
   "id": "a6ffa05b",
   "metadata": {},
   "outputs": [],
   "source": [
    "print(\"各种清洗文本\")\n",
    "ht0 = HarvestText()\n",
    "# 默认的设置可用于清洗微博文本\n",
    "text1 = \"回复@钱旭明QXM:[嘻嘻][嘻嘻] //@钱旭明QXM:杨大哥[good][good]\"\n",
    "print(\"清洗微博【@和表情符等】\")\n",
    "print(\"原：\", text1)\n",
    "print(\"清洗后：\", ht0.clean_text(text1))\n",
    "# URL的清理\n",
    "text1 = \"【#赵薇#：正筹备下一部电影 但不是青春片....http://t.cn/8FLopdQ\"\n",
    "print(\"清洗网址URL\")\n",
    "print(\"原：\", text1)\n",
    "print(\"清洗后：\", ht0.clean_text(text1, remove_url=True))\n",
    "# 清洗邮箱\n",
    "text1 = \"我的邮箱是abc@demo.com，欢迎联系\"\n",
    "print(\"清洗邮箱\")\n",
    "print(\"原：\", text1)\n",
    "print(\"清洗后：\", ht0.clean_text(text1, email=True))\n",
    "# 处理URL转义字符\n",
    "text1 = \"www.%E4%B8%AD%E6%96%87%20and%20space.com\"\n",
    "print(\"URL转正常字符\")\n",
    "print(\"原：\", text1)\n",
    "print(\"清洗后：\", ht0.clean_text(text1, norm_url=True, remove_url=False))\n",
    "text1 = \"www.中文 and space.com\"\n",
    "print(\"正常字符转URL[含有中文和空格的request需要注意]\")\n",
    "print(\"原：\", text1)\n",
    "print(\"清洗后：\", ht0.clean_text(text1, to_url=True, remove_url=False))\n",
    "# 处理HTML转义字符\n",
    "text1 = \"&lt;a c&gt;&nbsp;&#x27;&#x27;\"\n",
    "print(\"HTML转正常字符\")\n",
    "print(\"原：\", text1)\n",
    "print(\"清洗后：\", ht0.clean_text(text1, norm_html=True))\n",
    "# 繁体字转简体\n",
    "text1 = \"心碎誰買單\"\n",
    "print(\"繁体字转简体\")\n",
    "print(\"原：\", text1)\n",
    "print(\"清洗后：\", ht0.clean_text(text1, t2s=True))"
   ]
  },
  {
   "cell_type": "code",
   "execution_count": null,
   "id": "917ce0ce",
   "metadata": {},
   "outputs": [],
   "source": [
    "print(\"\\nsentiment dictionary\")\n",
    "sents = [\"武磊威武，中超第一射手！\",\n",
    "      \"武磊强，中超最第一本土球员！\",\n",
    "      \"郜林不行，只会抱怨的球员注定上限了\",\n",
    "      \"郜林看来不行，已经到上限了\"]\n",
    "sent_dict = ht.build_sent_dict(sents,min_times=1,pos_seeds=[\"第一\"],neg_seeds=[\"不行\"])\n",
    "print(\"%s:%f\" % (\"威武\",sent_dict[\"威武\"]))\n",
    "print(\"%s:%f\" % (\"球员\",sent_dict[\"球员\"]))\n",
    "print(\"%s:%f\" % (\"上限\",sent_dict[\"上限\"]))"
   ]
  },
  {
   "cell_type": "code",
   "execution_count": null,
   "id": "12f35457",
   "metadata": {},
   "outputs": [],
   "source": [
    "print(\"\\nsentence sentiment\")\n",
    "sent = \"武球王威武，中超最强球员！\"\n",
    "print(\"%f:%s\" % (ht.analyse_sent(sent),sent))"
   ]
  },
  {
   "cell_type": "code",
   "execution_count": null,
   "id": "f0ceeb12",
   "metadata": {},
   "outputs": [],
   "source": [
    "print(\"\\nsentiment dictionary using default seed words\")\n",
    "docs = [\"张市筹设兴华实业公司外区资本家踊跃投资晋察冀边区兴华实业公司，自筹备成立以来，解放区内外企业界人士及一般商民，均踊跃认股投资\",\n",
    "        \"打倒万恶的资本家\",\n",
    "    \"该公司原定资本总额为二十五万万元，现已由各界分认达二十万万元，所属各厂、各公司亦募得股金一万万余元\",\n",
    "    \"连日来解放区以外各工商人士，投函向该公司询问经营性质与范围以及股东权限等问题者甚多，络绎抵此的许多资本家，于参观该公司所属各厂经营状况后，对民主政府扶助与奖励私营企业发展的政策，均极表赞同，有些资本家因款项未能即刻汇来，多向筹备处预认投资的额数。由平津来张的林明棋先生，一次即以现款入股六十余万元\"\n",
    "   ]\n",
    "# scale: 将所有词语的情感值范围调整到[-1,1]\n",
    "# 省略pos_seeds, neg_seeds,将采用默认的情感词典 get_qh_sent_dict()\n",
    "print(\"scale=\\\"0-1\\\", 按照最大为1，最小为0进行线性伸缩，0.5未必是中性\")\n",
    "sent_dict = ht.build_sent_dict(docs,min_times=1,scale=\"0-1\")\n",
    "print(\"%s:%f\" % (\"赞同\",sent_dict[\"赞同\"]))\n",
    "print(\"%s:%f\" % (\"二十万\",sent_dict[\"二十万\"]))\n",
    "print(\"%s:%f\" % (\"万恶\",sent_dict[\"万恶\"]))\n",
    "print(\"%f:%s\" % (ht.analyse_sent(docs[0]), docs[0]))\n",
    "print(\"%f:%s\" % (ht.analyse_sent(docs[1]), docs[1]))\n",
    "\n",
    "print(\"scale=\\\"+-1\\\", 在正负区间内分别伸缩，保留0作为中性的语义\")\n",
    "sent_dict = ht.build_sent_dict(docs,min_times=1,scale=\"+-1\")\n",
    "print(\"%s:%f\" % (\"赞同\",sent_dict[\"赞同\"]))\n",
    "print(\"%s:%f\" % (\"二十万\",sent_dict[\"二十万\"]))\n",
    "print(\"%s:%f\" % (\"万恶\",sent_dict[\"万恶\"]))\n",
    "print(\"%f:%s\" % (ht.analyse_sent(docs[0]), docs[0]))\n",
    "print(\"%f:%s\" % (ht.analyse_sent(docs[1]), docs[1]))"
   ]
  },
  {
   "cell_type": "code",
   "execution_count": null,
   "id": "32350583",
   "metadata": {},
   "outputs": [],
   "source": [
    "sentiment dictionary using default seed words\n",
    "scale=\"0-1\", 按照最大为1，最小为0进行线性伸缩，0.5未必是中性\n",
    "赞同:1.000000\n",
    "二十万:0.153846\n",
    "万恶:0.000000\n",
    "0.449412:张市筹设兴华实业公司外区资本家踊跃投资晋察冀边区兴华实业公司，自筹备成立以来，解放区内外企业界人士及一般商民，均踊跃认股投资\n",
    "0.364910:打倒万恶的资本家\n",
    "scale=\"+-1\", 在正负区间内分别伸缩，保留0作为中性的语义\n",
    "赞同:1.000000\n",
    "二十万:0.000000\n",
    "万恶:-1.000000\n",
    "0.349305:张市筹设兴华实业公司外区资本家踊跃投资晋察冀边区兴华实业公司，自筹备成立以来，解放区内外企业界人士及一般商民，均踊跃认股投资\n",
    "-0.159652:打倒万恶的资本家"
   ]
  }
 ],
 "metadata": {
  "kernelspec": {
   "display_name": "Python 3 (ipykernel)",
   "language": "python",
   "name": "python3"
  },
  "language_info": {
   "codemirror_mode": {
    "name": "ipython",
    "version": 3
   },
   "file_extension": ".py",
   "mimetype": "text/x-python",
   "name": "python",
   "nbconvert_exporter": "python",
   "pygments_lexer": "ipython3",
   "version": "3.9.7"
  }
 },
 "nbformat": 4,
 "nbformat_minor": 5
}
