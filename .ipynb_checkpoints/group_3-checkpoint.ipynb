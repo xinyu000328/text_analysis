{
 "cells": [
  {
   "cell_type": "code",
   "execution_count": 1,
   "id": "0c04cb4e",
   "metadata": {},
   "outputs": [],
   "source": [
    "import os\n",
    "import pandas as pd\n",
    "import numpy as np\n",
    "import csv\n",
    "import re"
   ]
  },
  {
   "cell_type": "code",
   "execution_count": 2,
   "id": "d7334c90",
   "metadata": {},
   "outputs": [],
   "source": [
    "from pprint import pprint\n",
    "\n",
    "# Gensim\n",
    "import gensim\n",
    "import gensim.corpora as corpora\n",
    "from gensim.utils import simple_preprocess\n",
    "from gensim.models import CoherenceModel\n",
    " \n",
    "# spacy for lemmatization\n",
    "import spacy\n",
    " \n",
    "# Plotting tools\n",
    "import pyLDAvis\n",
    "import pyLDAvis.gensim  # don't skip this\n",
    "import matplotlib.pyplot as plt\n",
    "%matplotlib inline\n",
    "\n",
    "# Enable logging for gensim - optional\n",
    "import logging\n",
    "logging.basicConfig(format='%(asctime)s : %(levelname)s : %(message)s', level=logging.ERROR)\n",
    "\n",
    "import warnings\n",
    "warnings.filterwarnings(\"ignore\",category=DeprecationWarning)\n",
    "\n",
    "from sklearn.feature_extraction.text import TfidfVectorizer\n",
    "from sklearn.decomposition import LatentDirichletAllocation"
   ]
  },
  {
   "cell_type": "code",
   "execution_count": 3,
   "id": "1f1ad9d5",
   "metadata": {},
   "outputs": [
    {
     "data": {
      "text/html": [
       "<div>\n",
       "<style scoped>\n",
       "    .dataframe tbody tr th:only-of-type {\n",
       "        vertical-align: middle;\n",
       "    }\n",
       "\n",
       "    .dataframe tbody tr th {\n",
       "        vertical-align: top;\n",
       "    }\n",
       "\n",
       "    .dataframe thead th {\n",
       "        text-align: right;\n",
       "    }\n",
       "</style>\n",
       "<table border=\"1\" class=\"dataframe\">\n",
       "  <thead>\n",
       "    <tr style=\"text-align: right;\">\n",
       "      <th></th>\n",
       "      <th>content</th>\n",
       "      <th>date</th>\n",
       "      <th>time</th>\n",
       "      <th>user_id</th>\n",
       "      <th>cut_content</th>\n",
       "      <th>del</th>\n",
       "    </tr>\n",
       "  </thead>\n",
       "  <tbody>\n",
       "    <tr>\n",
       "      <th>0</th>\n",
       "      <td>好的，我知道了～拜拜啦您～不懂事的小屁孩</td>\n",
       "      <td>2022-08-01</td>\n",
       "      <td>2022-08-01 16:49:32</td>\n",
       "      <td>1000347570</td>\n",
       "      <td>好 的 ， 我 知道 了 ～ 拜拜 啦 您 ～ 不懂事 的 小屁孩</td>\n",
       "      <td>拜拜 不懂事 小屁孩</td>\n",
       "    </tr>\n",
       "    <tr>\n",
       "      <th>1</th>\n",
       "      <td>太开心啦，一次成功！小朋友太爱吃了～为娘很欣慰</td>\n",
       "      <td>2022-07-31</td>\n",
       "      <td>2022-07-31 11:27:09</td>\n",
       "      <td>1000347570</td>\n",
       "      <td>太 开心 啦 ， 一次 成功 ！ 小朋友 太爱 吃 了 ～ 为娘 很 欣慰</td>\n",
       "      <td>太 开心 成功 小朋友 太爱 吃 为娘 欣慰</td>\n",
       "    </tr>\n",
       "    <tr>\n",
       "      <th>2</th>\n",
       "      <td>南汇好朋友的再次投喂～🍇葡萄太好吃了吧！</td>\n",
       "      <td>2022-07-30</td>\n",
       "      <td>2022-07-30 20:16:07</td>\n",
       "      <td>1000347570</td>\n",
       "      <td>南汇 好 朋友 的 再次 投 喂 ～ 🍇 葡萄 太 好吃 了 吧 ！</td>\n",
       "      <td>南汇 朋友 投  葡萄 太 好吃</td>\n",
       "    </tr>\n",
       "    <tr>\n",
       "      <th>3</th>\n",
       "      <td>周五ootd9.9的F21的T恤真香～我真是省钱小能手包包也是同事送的</td>\n",
       "      <td>2022-07-29</td>\n",
       "      <td>2022-07-29 08:59:32</td>\n",
       "      <td>1000347570</td>\n",
       "      <td>周五 ootd9.9 的 F21 的 T恤 真香 ～ 我 真是 省钱 小 能手 包包 也 是...</td>\n",
       "      <td>周五 .  恤 真香 省钱 能手 包包 同事 送</td>\n",
       "    </tr>\n",
       "    <tr>\n",
       "      <th>4</th>\n",
       "      <td>小可爱太乖了～以后妈妈多带你出门哈 上海·上海月星环球港</td>\n",
       "      <td>2022-07-24</td>\n",
       "      <td>2022-07-24 13:32:46</td>\n",
       "      <td>1000347570</td>\n",
       "      <td>小可爱 太乖 了 ～ 以后 妈妈 多带 你 出门 哈   上海 · 上海 月星 环球 港</td>\n",
       "      <td>小可爱 太乖 妈妈 多带 出门   月星 环球 港</td>\n",
       "    </tr>\n",
       "  </tbody>\n",
       "</table>\n",
       "</div>"
      ],
      "text/plain": [
       "                                content        date                 time  \\\n",
       "0                 好的，我知道了～拜拜啦您～不懂事的小屁孩   2022-08-01  2022-08-01 16:49:32   \n",
       "1              太开心啦，一次成功！小朋友太爱吃了～为娘很欣慰   2022-07-31  2022-07-31 11:27:09   \n",
       "2                 南汇好朋友的再次投喂～🍇葡萄太好吃了吧！   2022-07-30  2022-07-30 20:16:07   \n",
       "3  周五ootd9.9的F21的T恤真香～我真是省钱小能手包包也是同事送的   2022-07-29  2022-07-29 08:59:32   \n",
       "4         小可爱太乖了～以后妈妈多带你出门哈 上海·上海月星环球港   2022-07-24  2022-07-24 13:32:46   \n",
       "\n",
       "      user_id                                        cut_content  \\\n",
       "0  1000347570                好 的 ， 我 知道 了 ～ 拜拜 啦 您 ～ 不懂事 的 小屁孩     \n",
       "1  1000347570            太 开心 啦 ， 一次 成功 ！ 小朋友 太爱 吃 了 ～ 为娘 很 欣慰     \n",
       "2  1000347570               南汇 好 朋友 的 再次 投 喂 ～ 🍇 葡萄 太 好吃 了 吧 ！     \n",
       "3  1000347570  周五 ootd9.9 的 F21 的 T恤 真香 ～ 我 真是 省钱 小 能手 包包 也 是...   \n",
       "4  1000347570     小可爱 太乖 了 ～ 以后 妈妈 多带 你 出门 哈   上海 · 上海 月星 环球 港     \n",
       "\n",
       "                          del  \n",
       "0                 拜拜 不懂事 小屁孩   \n",
       "1     太 开心 成功 小朋友 太爱 吃 为娘 欣慰   \n",
       "2           南汇 朋友 投  葡萄 太 好吃   \n",
       "3   周五 .  恤 真香 省钱 能手 包包 同事 送   \n",
       "4  小可爱 太乖 妈妈 多带 出门   月星 环球 港   "
      ]
     },
     "execution_count": 3,
     "metadata": {},
     "output_type": "execute_result"
    }
   ],
   "source": [
    "#读入数据\n",
    "group_3_del = pd.read_csv('D:\\my research\\group\\group_3\\group_3_final.csv',encoding='utf-8')\n",
    "group_3_del.columns = ['0','content','date','time','user_id','cut_content','del']\n",
    "group_3_del = group_3_del.drop(columns='0')\n",
    "group_3_del = group_3_del.dropna(axis=0, how='any')\n",
    "group_3_del.head()"
   ]
  },
  {
   "cell_type": "code",
   "execution_count": 4,
   "id": "f1d897ed",
   "metadata": {},
   "outputs": [],
   "source": [
    "import pyLDAvis.sklearn\n",
    "import pyLDAvis\n",
    "import pyLDAvis.gensim"
   ]
  },
  {
   "cell_type": "code",
   "execution_count": 5,
   "id": "9c139147",
   "metadata": {},
   "outputs": [],
   "source": [
    "#完善停用词表\n",
    "new = (['顾魏','特别','越来越','好像','我要','刚刚','天天','林之校','啊啊啊','王一博','翟潇闻','真的','哈哈哈','感觉',\n",
    "       '不到','一点','呜呜','哈哈哈哈','好好','这是','时代','少年','余生','指教','本来','晚上','天天','不想','玖',\n",
    "        '团肖战','代言人','马嘉祺','尹浩宇','热巴','迪丽','刘宇宁','摩登','兄弟','周杰伦','新歌','余宇涵','原创',\n",
    "       '哔哩','.','两个','左航','周边','一善','太','岁','之恋','舞台','诶','好帅','好好看','生日快乐','美美',\n",
    "       '卧槽','演唱会','一条','歌','救命','救','想','吃','做','说','月','买','天','号','明天','小时','分钟','夜',\n",
    "       '穿','忘','祝','面','甜','咸','日','团','菜','愿','挺','明明','加','行','再也','不知','玩','挂','正','刷',\n",
    "        '真','有没有','写','打卡','越','站','走','画','风','路','想到','回','王','心','话','掉','搞','干',\n",
    "        '个头','  ','包','跳','图','份','开','字','咯','长','草','新','品牌','请','剧','哥哥','块','这部','超',\n",
    "       '破','超话','祝','那种','%','服','周','店','圈','哒','语','高','页','一只','刘','名','度','达','也许',\n",
    "       '综艺','先','亿','倒','水','元','拉','黑','宋亚轩','姐姐','嗨','受','录','秒','戏','俩','只会','手','焕新','聚力',\n",
    "       '耀','荣耀','大会','视界','滚','假','气','派','中','少','视界','杨','女团','至少','额','算是','花','再也','帅',\n",
    "        '生','之间','确实','耶','头','丢','易','烊','千玺','热','搜','道','灿烂','星汉','邓紫棋','棒','称','沉香',\n",
    "       '如屑','集','毛','算',' ',' ','|','|','点','年','里','微光','喵','徐坤'])"
   ]
  },
  {
   "cell_type": "code",
   "execution_count": 6,
   "id": "f828041c",
   "metadata": {},
   "outputs": [],
   "source": [
    "aaa = []\n",
    "for line in group_3_del['del']:\n",
    "    line_u = ' '.join(str(line).split())\n",
    "    line_uu = line_u.split()#将一个元素按空格拆分成多个元素\n",
    "    outstr = []\n",
    "    for words in line_uu:\n",
    "        if words not in new:\n",
    "            #if words in ['n','v','a','r','i']:\n",
    "                outstr.append(words)\n",
    "    aaa.append(outstr)"
   ]
  },
  {
   "cell_type": "code",
   "execution_count": 7,
   "id": "049cb590",
   "metadata": {},
   "outputs": [],
   "source": [
    "import gensim.downloader as api\n",
    "from gensim.models import TfidfModel\n",
    "from gensim.corpora import Dictionary"
   ]
  },
  {
   "cell_type": "code",
   "execution_count": 8,
   "id": "1723391a",
   "metadata": {},
   "outputs": [],
   "source": [
    "dictionary = corpora.Dictionary(aaa)\n",
    "corpus = [dictionary.doc2bow(tmp) for tmp in aaa]"
   ]
  },
  {
   "cell_type": "code",
   "execution_count": 9,
   "id": "237fd24b",
   "metadata": {},
   "outputs": [],
   "source": [
    "tfidf = TfidfModel(corpus)\n",
    "corpus_tfidf = tfidf[corpus]"
   ]
  },
  {
   "cell_type": "code",
   "execution_count": 10,
   "id": "34ef816c",
   "metadata": {},
   "outputs": [],
   "source": [
    "# 困惑度的XY坐标\n",
    "x_perplexity = [] \n",
    "y_perplexity = [] \n",
    "# 一致性的XY坐标\n",
    "x_coherence = [] \n",
    "y_coherence = [] \n",
    "#id2word：就是上边构造的dictionary字典\n",
    "#passes：模型的训练次数\n",
    "for i in range(1, 31):     \n",
    "    # 循环生成主题数为i的模型， passes代表模型训练次数，数据量太大了，搞小一点。     \n",
    "    lda = gensim.models.ldamodel.LdaModel(corpus_tfidf, num_topics=i, id2word=dictionary, passes=10)     \n",
    "    # 计算当前模型困惑度\n",
    "    cur_perplexity = lda.log_perplexity(corpus_tfidf)     \n",
    "    # 构造横纵坐标轴数据\n",
    "    x_perplexity.append(i)\n",
    "    y_perplexity.append(cur_perplexity) \n",
    "    # 计算一致性\n",
    "    cv_tmp = CoherenceModel(model=lda, texts=aaa, dictionary=dictionary, coherence='c_v') \n",
    "    x_coherence.append(i) \n",
    "    y_coherence.append(cv_tmp.get_coherence()) "
   ]
  },
  {
   "cell_type": "code",
   "execution_count": 11,
   "id": "803558f9",
   "metadata": {},
   "outputs": [
    {
     "data": {
      "image/png": "[encoded data removed]",
      "text/plain": [
       "<Figure size 432x288 with 1 Axes>"
      ]
     },
     "metadata": {
      "needs_background": "light"
     },
     "output_type": "display_data"
    }
   ],
   "source": [
    "# 绘制一致性折线图 \n",
    "plt.plot(x_coherence, y_coherence) \n",
    "plt.xlabel('num topics') \n",
    "plt.ylabel('coherence score') \n",
    "plt.legend(('coherence_values'), loc='best') \n",
    "plt.savefig('D:\\my research\\coherenceLine_3.jpg') \n",
    "plt.show() "
   ]
  },
  {
   "cell_type": "code",
   "execution_count": 12,
   "id": "04e17e32",
   "metadata": {},
   "outputs": [],
   "source": [
    "cohen = pd.DataFrame(y_coherence, x_coherence)\n",
    "cohen.to_csv('D:\\my research\\group\\coherence_3.csv',encoding=\"utf-8_sig\") "
   ]
  },
  {
   "cell_type": "code",
   "execution_count": 13,
   "id": "396df192",
   "metadata": {},
   "outputs": [],
   "source": [
    "perp =  pd.DataFrame(y_perplexity, x_perplexity)\n",
    "perp.to_csv('D:\\my research\\group\\perplexity_3.csv',encoding=\"utf-8_sig\") "
   ]
  },
  {
   "cell_type": "code",
   "execution_count": 10,
   "id": "d0af6e49",
   "metadata": {},
   "outputs": [],
   "source": [
    "lda = gensim.models.ldamodel.LdaModel(corpus_tfidf, num_topics=6, id2word=dictionary, passes=10)"
   ]
  },
  {
   "cell_type": "code",
   "execution_count": null,
   "id": "df8a03db",
   "metadata": {},
   "outputs": [
    {
     "name": "stderr",
     "output_type": "stream",
     "text": [
      "D:\\Program_Files\\anaconda\\lib\\site-packages\\pyLDAvis\\_prepare.py:228: FutureWarning: In a future version of pandas all arguments of DataFrame.drop except for the argument 'labels' will be keyword-only\n",
      "  default_term_info  = pd.DataFrame({'saliency': saliency, 'Term': vocab, \\\n"
     ]
    },
    {
     "name": "stdout",
     "output_type": "stream",
     "text": [
      "\n",
      "Note: if you're in the IPython notebook, pyLDAvis.show() is not the best command\n",
      "      to use. Consider using pyLDAvis.display(), or pyLDAvis.enable_notebook().\n",
      "      See more information at http://pyLDAvis.github.io/quickstart.html .\n",
      "\n",
      "You must interrupt the kernel to end this command\n",
      "\n",
      "Serving to http://127.0.0.1:8889/    [Ctrl-C to exit]\n"
     ]
    },
    {
     "name": "stderr",
     "output_type": "stream",
     "text": [
      "127.0.0.1 - - [23/Oct/2022 11:22:13] \"GET / HTTP/1.1\" 200 -\n",
      "127.0.0.1 - - [23/Oct/2022 11:22:13] \"GET /LDAvis.css HTTP/1.1\" 200 -\n",
      "127.0.0.1 - - [23/Oct/2022 11:22:13] \"GET /d3.js HTTP/1.1\" 200 -\n",
      "127.0.0.1 - - [23/Oct/2022 11:22:13] \"GET /LDAvis.js HTTP/1.1\" 200 -\n",
      "127.0.0.1 - - [23/Oct/2022 11:22:13] code 404, message Not Found\n",
      "127.0.0.1 - - [23/Oct/2022 11:22:13] \"GET /favicon.ico HTTP/1.1\" 404 -\n"
     ]
    }
   ],
   "source": [
    "pyLDAvis.enable_notebook()\n",
    "data = pyLDAvis.gensim.prepare(lda, corpus_tfidf, dictionary)\n",
    "#让可视化可以在notebook内显示\n",
    "pyLDAvis.show(data)"
   ]
  },
  {
   "cell_type": "code",
   "execution_count": null,
   "id": "6b8786c0",
   "metadata": {},
   "outputs": [],
   "source": []
  }
 ],
 "metadata": {
  "kernelspec": {
   "display_name": "Python 3 (ipykernel)",
   "language": "python",
   "name": "python3"
  },
  "language_info": {
   "codemirror_mode": {
    "name": "ipython",
    "version": 3
   },
   "file_extension": ".py",
   "mimetype": "text/x-python",
   "name": "python",
   "nbconvert_exporter": "python",
   "pygments_lexer": "ipython3",
   "version": "3.9.7"
  }
 },
 "nbformat": 4,
 "nbformat_minor": 5
}
