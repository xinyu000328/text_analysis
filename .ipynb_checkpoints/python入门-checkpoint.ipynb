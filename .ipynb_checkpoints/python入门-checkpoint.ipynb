{
 "cells": [
  {
   "cell_type": "code",
   "execution_count": 1,
   "id": "97927809",
   "metadata": {},
   "outputs": [
    {
     "name": "stdout",
     "output_type": "stream",
     "text": [
      "the sum is 136\n"
     ]
    }
   ],
   "source": [
    "num = 16\n",
    "if num < 0:\n",
    "    print(\"enter a positive number\")\n",
    "else:\n",
    "    sum = 0\n",
    "    while(num > 0):\n",
    "        sum += num\n",
    "        num -= 1\n",
    "    print(\"the sum is\", sum)"
   ]
  },
  {
   "cell_type": "code",
   "execution_count": 2,
   "id": "f208852e",
   "metadata": {},
   "outputs": [
    {
     "data": {
      "text/plain": [
       "array([0, 0, 0, 0, 0, 0, 0, 0, 0, 0, 0, 0, 0, 0, 0, 0, 0, 0, 0, 0, 0, 0,\n",
       "       0, 0, 0, 0, 0, 0, 0, 0, 0, 0, 0, 0, 0, 0, 0, 0, 0, 0, 0, 0, 0, 0,\n",
       "       0, 0, 0, 0, 0, 0, 1, 1, 1, 1, 1, 1, 1, 1, 1, 1, 1, 1, 1, 1, 1, 1,\n",
       "       1, 1, 1, 1, 1, 1, 1, 1, 1, 1, 1, 2, 1, 1, 1, 1, 1, 2, 1, 1, 1, 1,\n",
       "       1, 1, 1, 1, 1, 1, 1, 1, 1, 1, 1, 1, 2, 2, 2, 2, 2, 2, 1, 2, 2, 2,\n",
       "       2, 2, 2, 2, 2, 2, 2, 2, 2, 2, 2, 2, 2, 2, 2, 2, 2, 2, 2, 2, 2, 2,\n",
       "       2, 2, 2, 2, 2, 2, 1, 2, 2, 2, 2, 2, 2, 2, 2, 2, 2, 2])"
      ]
     },
     "execution_count": 2,
     "metadata": {},
     "output_type": "execute_result"
    }
   ],
   "source": [
    "from sklearn import datasets\n",
    "from sklearn.svm import SVC\n",
    "\n",
    "iris = datasets.load_iris() #载入数据\n",
    "\n",
    "clf = SVC() #构造分类器\n",
    "\n",
    "clf.fit(iris.data, iris.target) #拟合分类器\n",
    "\n",
    "clf.predict(iris.data) #进行预测"
   ]
  },
  {
   "cell_type": "code",
   "execution_count": 4,
   "id": "ac8ae3d8",
   "metadata": {},
   "outputs": [
    {
     "name": "stdout",
     "output_type": "stream",
     "text": [
      "1.33 s ± 30.8 ms per loop (mean ± std. dev. of 7 runs, 1 loop each)\n"
     ]
    }
   ],
   "source": [
    "import numpy as np\n",
    "from sklearn.decomposition import PCA\n",
    "\n",
    "X = np.random.rand(1000000,10)\n",
    "pca = PCA(n_components=2)\n",
    "%timeit -n 1 pca.fit(X)"
   ]
  },
  {
   "cell_type": "code",
   "execution_count": 5,
   "id": "2f75a8bf",
   "metadata": {},
   "outputs": [
    {
     "data": {
      "text/plain": [
       "'l'"
      ]
     },
     "execution_count": 5,
     "metadata": {},
     "output_type": "execute_result"
    }
   ],
   "source": [
    "def get_next_letter(s,l):\n",
    "    i = s.index(l)\n",
    "    result = s[i + 1]\n",
    "    return result\n",
    "get_next_letter('world','r')"
   ]
  },
  {
   "cell_type": "code",
   "execution_count": 6,
   "id": "036d70bc",
   "metadata": {},
   "outputs": [],
   "source": [
    "class Person:\n",
    "    pass"
   ]
  },
  {
   "cell_type": "code",
   "execution_count": 7,
   "id": "33fd9d0b",
   "metadata": {},
   "outputs": [],
   "source": [
    "class Person:\n",
    "    def get_age_group(self):\n",
    "        if self.age>=18:\n",
    "            return 'adult'\n",
    "        elif self.age >= 6:\n",
    "            return 'teenager'\n",
    "        else:\n",
    "            return 'kid'"
   ]
  },
  {
   "cell_type": "code",
   "execution_count": 8,
   "id": "759f418e",
   "metadata": {},
   "outputs": [
    {
     "data": {
      "text/plain": [
       "'adult'"
      ]
     },
     "execution_count": 8,
     "metadata": {},
     "output_type": "execute_result"
    }
   ],
   "source": [
    "a = Person()\n",
    "a.age = 20 \n",
    "\n",
    "a.get_age_group()"
   ]
  },
  {
   "cell_type": "code",
   "execution_count": 18,
   "id": "011cb232",
   "metadata": {},
   "outputs": [],
   "source": [
    "class Person:\n",
    "    def _init_(self,gender,age):\n",
    "        self.gender = gender\n",
    "        self.age = age\n",
    "a = Person()"
   ]
  },
  {
   "cell_type": "code",
   "execution_count": 21,
   "id": "74d05167",
   "metadata": {},
   "outputs": [],
   "source": [
    "import textdistance"
   ]
  },
  {
   "cell_type": "code",
   "execution_count": 23,
   "id": "b3800a15",
   "metadata": {},
   "outputs": [
    {
     "name": "stdout",
     "output_type": "stream",
     "text": [
      "Collecting gopup\n",
      "  Downloading gopup-0.3.6-py3-none-any.whl (71 kB)\n",
      "Requirement already satisfied: requests in d:\\program_files\\anaconda\\lib\\site-packages (from gopup) (2.26.0)\n",
      "Collecting pyquery\n",
      "  Downloading pyquery-1.4.3-py3-none-any.whl (22 kB)\n",
      "Collecting jsonpath\n",
      "  Downloading jsonpath-0.82.tar.gz (9.6 kB)\n",
      "Requirement already satisfied: xlrd in d:\\program_files\\anaconda\\lib\\site-packages (from gopup) (2.0.1)\n",
      "Collecting pyexecjs\n",
      "  Downloading PyExecJS-1.5.1.tar.gz (13 kB)\n",
      "Requirement already satisfied: pandas in d:\\program_files\\anaconda\\lib\\site-packages (from gopup) (1.3.4)\n",
      "Requirement already satisfied: matplotlib in d:\\program_files\\anaconda\\lib\\site-packages (from gopup) (3.4.3)\n",
      "Collecting bs4\n",
      "  Downloading bs4-0.0.1.tar.gz (1.1 kB)\n",
      "Requirement already satisfied: Pillow in d:\\program_files\\anaconda\\lib\\site-packages (from gopup) (8.4.0)\n",
      "Collecting demjson\n",
      "  Downloading demjson-2.2.4.tar.gz (131 kB)\n",
      "  Downloading demjson-2.2.3.tar.gz (131 kB)\n",
      "  Downloading demjson-2.2.2.tar.gz (130 kB)\n",
      "  Downloading demjson-2.2.1.tar.gz (130 kB)\n",
      "  Downloading demjson-2.2.tar.gz (129 kB)\n",
      "  Downloading demjson-2.0.1.tar.gz (116 kB)\n",
      "  Downloading demjson-2.0.tar.gz (115 kB)\n",
      "  Downloading demjson-1.6.tar.gz (64 kB)\n",
      "Requirement already satisfied: tqdm in d:\\program_files\\anaconda\\lib\\site-packages (from gopup) (4.62.3)\n",
      "Requirement already satisfied: beautifulsoup4 in d:\\program_files\\anaconda\\lib\\site-packages (from bs4->gopup) (4.10.0)\n",
      "Requirement already satisfied: soupsieve>1.2 in d:\\program_files\\anaconda\\lib\\site-packages (from beautifulsoup4->bs4->gopup) (2.2.1)\n",
      "Requirement already satisfied: numpy>=1.16 in d:\\program_files\\anaconda\\lib\\site-packages (from matplotlib->gopup) (1.20.3)\n",
      "Requirement already satisfied: cycler>=0.10 in d:\\program_files\\anaconda\\lib\\site-packages (from matplotlib->gopup) (0.10.0)\n",
      "Requirement already satisfied: pyparsing>=2.2.1 in d:\\program_files\\anaconda\\lib\\site-packages (from matplotlib->gopup) (3.0.4)\n",
      "Requirement already satisfied: python-dateutil>=2.7 in d:\\program_files\\anaconda\\lib\\site-packages (from matplotlib->gopup) (2.8.2)\n",
      "Requirement already satisfied: kiwisolver>=1.0.1 in d:\\program_files\\anaconda\\lib\\site-packages (from matplotlib->gopup) (1.3.1)\n",
      "Requirement already satisfied: six in d:\\program_files\\anaconda\\lib\\site-packages (from cycler>=0.10->matplotlib->gopup) (1.16.0)\n",
      "Requirement already satisfied: pytz>=2017.3 in d:\\program_files\\anaconda\\lib\\site-packages (from pandas->gopup) (2021.3)\n",
      "Collecting cssselect>0.7.9\n",
      "  Downloading cssselect-1.1.0-py2.py3-none-any.whl (16 kB)\n",
      "Requirement already satisfied: lxml>=2.1 in d:\\program_files\\anaconda\\lib\\site-packages (from pyquery->gopup) (4.6.3)\n",
      "Requirement already satisfied: idna<4,>=2.5 in d:\\program_files\\anaconda\\lib\\site-packages (from requests->gopup) (3.2)\n",
      "Requirement already satisfied: urllib3<1.27,>=1.21.1 in d:\\program_files\\anaconda\\lib\\site-packages (from requests->gopup) (1.26.7)\n",
      "Requirement already satisfied: charset-normalizer~=2.0.0 in d:\\program_files\\anaconda\\lib\\site-packages (from requests->gopup) (2.0.4)\n",
      "Requirement already satisfied: certifi>=2017.4.17 in d:\\program_files\\anaconda\\lib\\site-packages (from requests->gopup) (2021.10.8)\n",
      "Requirement already satisfied: colorama in d:\\program_files\\anaconda\\lib\\site-packages (from tqdm->gopup) (0.4.4)\n",
      "Building wheels for collected packages: bs4, demjson, jsonpath, pyexecjs\n",
      "  Building wheel for bs4 (setup.py): started\n",
      "  Building wheel for bs4 (setup.py): finished with status 'done'\n",
      "  Created wheel for bs4: filename=bs4-0.0.1-py3-none-any.whl size=1271 sha256=48604604af9e37e0634621750745bf211cd1c5a54d2b258d440ed20c6b33af80\n",
      "  Stored in directory: c:\\users\\administrator\\appdata\\local\\pip\\cache\\wheels\\73\\2b\\cb\\099980278a0c9a3e57ff1a89875ec07bfa0b6fcbebb9a8cad3\n",
      "  Building wheel for demjson (setup.py): started\n",
      "  Building wheel for demjson (setup.py): finished with status 'done'\n",
      "  Created wheel for demjson: filename=demjson-1.6-py3-none-any.whl size=37853 sha256=37a6bf4883745530bfe3aa09fd61dcbffbc0a4983e56dcca23ffd5f2fa36bd6b\n",
      "  Stored in directory: c:\\users\\administrator\\appdata\\local\\pip\\cache\\wheels\\ed\\82\\49\\713e18e811100a4cb0841df2eb721d312fbc07c4aa2f128e11\n",
      "  Building wheel for jsonpath (setup.py): started\n",
      "  Building wheel for jsonpath (setup.py): finished with status 'done'\n",
      "  Created wheel for jsonpath: filename=jsonpath-0.82-py3-none-any.whl size=5612 sha256=a138af804bfe48e9b6505651b9aeea77858a79f319f53a3d822f3825747784b7\n",
      "  Stored in directory: c:\\users\\administrator\\appdata\\local\\pip\\cache\\wheels\\42\\6a\\ff\\5a6f028a06347fbccf0e0ba7af11b20eb76b8c3e62382874af\n",
      "  Building wheel for pyexecjs (setup.py): started\n",
      "  Building wheel for pyexecjs (setup.py): finished with status 'done'\n",
      "  Created wheel for pyexecjs: filename=PyExecJS-1.5.1-py3-none-any.whl size=14596 sha256=e165f9d561687a75c34b44f8d972e4303e24eef13ab4d576877f2dbd3eb7f977\n",
      "  Stored in directory: c:\\users\\administrator\\appdata\\local\\pip\\cache\\wheels\\5b\\ac\\94\\92a4835bff6f53c3faa26411e9db1a879d6e662c75b18a9603\n",
      "Successfully built bs4 demjson jsonpath pyexecjs\n",
      "Installing collected packages: cssselect, pyquery, pyexecjs, jsonpath, demjson, bs4, gopup\n",
      "Successfully installed bs4-0.0.1 cssselect-1.1.0 demjson-1.6 gopup-0.3.6 jsonpath-0.82 pyexecjs-1.5.1 pyquery-1.4.3\n",
      "Note: you may need to restart the kernel to use updated packages.\n"
     ]
    },
    {
     "name": "stderr",
     "output_type": "stream",
     "text": [
      "    ERROR: Command errored out with exit status 1:\n",
      "     command: 'D:\\Program_Files\\anaconda\\python.exe' -c 'import io, os, sys, setuptools, tokenize; sys.argv[0] = '\"'\"'C:\\\\Users\\\\Administrator\\\\AppData\\\\Local\\\\Temp\\\\pip-install-q2cz2phg\\\\demjson_ca59729c29ba4e5fa57d05853b8b487f\\\\setup.py'\"'\"'; __file__='\"'\"'C:\\\\Users\\\\Administrator\\\\AppData\\\\Local\\\\Temp\\\\pip-install-q2cz2phg\\\\demjson_ca59729c29ba4e5fa57d05853b8b487f\\\\setup.py'\"'\"';f = getattr(tokenize, '\"'\"'open'\"'\"', open)(__file__) if os.path.exists(__file__) else io.StringIO('\"'\"'from setuptools import setup; setup()'\"'\"');code = f.read().replace('\"'\"'\\r\\n'\"'\"', '\"'\"'\\n'\"'\"');f.close();exec(compile(code, __file__, '\"'\"'exec'\"'\"'))' egg_info --egg-base 'C:\\Users\\Administrator\\AppData\\Local\\Temp\\pip-pip-egg-info-1g7p518t'\n",
      "         cwd: C:\\Users\\Administrator\\AppData\\Local\\Temp\\pip-install-q2cz2phg\\demjson_ca59729c29ba4e5fa57d05853b8b487f\\\n",
      "    Complete output (1 lines):\n",
      "    error in demjson setup command: use_2to3 is invalid.\n",
      "    ----------------------------------------\n",
      "WARNING: Discarding https://files.pythonhosted.org/packages/96/67/6db789e2533158963d4af689f961b644ddd9200615b8ce92d6cad695c65a/demjson-2.2.4.tar.gz#sha256=31de2038a0fdd9c4c11f8bf3b13fe77bc2a128307f965c8d5fb4dc6d6f6beb79 (from https://pypi.org/simple/demjson/). Command errored out with exit status 1: python setup.py egg_info Check the logs for full command output.\n",
      "    ERROR: Command errored out with exit status 1:\n",
      "     command: 'D:\\Program_Files\\anaconda\\python.exe' -c 'import io, os, sys, setuptools, tokenize; sys.argv[0] = '\"'\"'C:\\\\Users\\\\Administrator\\\\AppData\\\\Local\\\\Temp\\\\pip-install-q2cz2phg\\\\demjson_cfa9b879dffd4e6292569140c05b407c\\\\setup.py'\"'\"'; __file__='\"'\"'C:\\\\Users\\\\Administrator\\\\AppData\\\\Local\\\\Temp\\\\pip-install-q2cz2phg\\\\demjson_cfa9b879dffd4e6292569140c05b407c\\\\setup.py'\"'\"';f = getattr(tokenize, '\"'\"'open'\"'\"', open)(__file__) if os.path.exists(__file__) else io.StringIO('\"'\"'from setuptools import setup; setup()'\"'\"');code = f.read().replace('\"'\"'\\r\\n'\"'\"', '\"'\"'\\n'\"'\"');f.close();exec(compile(code, __file__, '\"'\"'exec'\"'\"'))' egg_info --egg-base 'C:\\Users\\Administrator\\AppData\\Local\\Temp\\pip-pip-egg-info-mwej64xl'\n",
      "         cwd: C:\\Users\\Administrator\\AppData\\Local\\Temp\\pip-install-q2cz2phg\\demjson_cfa9b879dffd4e6292569140c05b407c\\\n",
      "    Complete output (1 lines):\n",
      "    error in demjson setup command: use_2to3 is invalid.\n",
      "    ----------------------------------------\n",
      "WARNING: Discarding https://files.pythonhosted.org/packages/90/ad/1bc63e6dd7714640ad775cf4773d790794084444617e8fee65834b98ceb0/demjson-2.2.3.tar.gz#sha256=9fb0f3c02fe500104680af2889a64d1637b395aebdb37341ae2309d77854f40c (from https://pypi.org/simple/demjson/). Command errored out with exit status 1: python setup.py egg_info Check the logs for full command output.\n",
      "    ERROR: Command errored out with exit status 1:\n",
      "     command: 'D:\\Program_Files\\anaconda\\python.exe' -c 'import io, os, sys, setuptools, tokenize; sys.argv[0] = '\"'\"'C:\\\\Users\\\\Administrator\\\\AppData\\\\Local\\\\Temp\\\\pip-install-q2cz2phg\\\\demjson_ddc44a36b3d743a8ba42b2c95d95ea01\\\\setup.py'\"'\"'; __file__='\"'\"'C:\\\\Users\\\\Administrator\\\\AppData\\\\Local\\\\Temp\\\\pip-install-q2cz2phg\\\\demjson_ddc44a36b3d743a8ba42b2c95d95ea01\\\\setup.py'\"'\"';f = getattr(tokenize, '\"'\"'open'\"'\"', open)(__file__) if os.path.exists(__file__) else io.StringIO('\"'\"'from setuptools import setup; setup()'\"'\"');code = f.read().replace('\"'\"'\\r\\n'\"'\"', '\"'\"'\\n'\"'\"');f.close();exec(compile(code, __file__, '\"'\"'exec'\"'\"'))' egg_info --egg-base 'C:\\Users\\Administrator\\AppData\\Local\\Temp\\pip-pip-egg-info-xw2_v4t9'\n",
      "         cwd: C:\\Users\\Administrator\\AppData\\Local\\Temp\\pip-install-q2cz2phg\\demjson_ddc44a36b3d743a8ba42b2c95d95ea01\\\n",
      "    Complete output (1 lines):\n",
      "    error in demjson setup command: use_2to3 is invalid.\n",
      "    ----------------------------------------\n",
      "WARNING: Discarding https://files.pythonhosted.org/packages/f0/73/3e419b7518f9b964651c8defcd1c6e547a9dc972480d54a7da3af2460017/demjson-2.2.2.tar.gz#sha256=5114563dd3a0324b6c9c74250528660adbb6a095b2a015038149e31a9b5727d5 (from https://pypi.org/simple/demjson/). Command errored out with exit status 1: python setup.py egg_info Check the logs for full command output.\n",
      "    ERROR: Command errored out with exit status 1:\n",
      "     command: 'D:\\Program_Files\\anaconda\\python.exe' -c 'import io, os, sys, setuptools, tokenize; sys.argv[0] = '\"'\"'C:\\\\Users\\\\Administrator\\\\AppData\\\\Local\\\\Temp\\\\pip-install-q2cz2phg\\\\demjson_ae20dd182d034daea39a2c59dad1c78b\\\\setup.py'\"'\"'; __file__='\"'\"'C:\\\\Users\\\\Administrator\\\\AppData\\\\Local\\\\Temp\\\\pip-install-q2cz2phg\\\\demjson_ae20dd182d034daea39a2c59dad1c78b\\\\setup.py'\"'\"';f = getattr(tokenize, '\"'\"'open'\"'\"', open)(__file__) if os.path.exists(__file__) else io.StringIO('\"'\"'from setuptools import setup; setup()'\"'\"');code = f.read().replace('\"'\"'\\r\\n'\"'\"', '\"'\"'\\n'\"'\"');f.close();exec(compile(code, __file__, '\"'\"'exec'\"'\"'))' egg_info --egg-base 'C:\\Users\\Administrator\\AppData\\Local\\Temp\\pip-pip-egg-info-p3ek4fpw'\n",
      "         cwd: C:\\Users\\Administrator\\AppData\\Local\\Temp\\pip-install-q2cz2phg\\demjson_ae20dd182d034daea39a2c59dad1c78b\\\n",
      "    Complete output (1 lines):\n",
      "    error in demjson setup command: use_2to3 is invalid.\n",
      "    ----------------------------------------\n",
      "WARNING: Discarding https://files.pythonhosted.org/packages/5c/81/3659552ac3d5056c33ba48541df81a4e20ea502a2d467b822e785ce98463/demjson-2.2.1.tar.gz#sha256=75055ebb6112a3c6bc3e009f528b209f9968773ebd3d3a1cd0d4b6c2006ee830 (from https://pypi.org/simple/demjson/). Command errored out with exit status 1: python setup.py egg_info Check the logs for full command output.\n",
      "    ERROR: Command errored out with exit status 1:\n",
      "     command: 'D:\\Program_Files\\anaconda\\python.exe' -c 'import io, os, sys, setuptools, tokenize; sys.argv[0] = '\"'\"'C:\\\\Users\\\\Administrator\\\\AppData\\\\Local\\\\Temp\\\\pip-install-q2cz2phg\\\\demjson_f072505875594d079a536e8b39c1224a\\\\setup.py'\"'\"'; __file__='\"'\"'C:\\\\Users\\\\Administrator\\\\AppData\\\\Local\\\\Temp\\\\pip-install-q2cz2phg\\\\demjson_f072505875594d079a536e8b39c1224a\\\\setup.py'\"'\"';f = getattr(tokenize, '\"'\"'open'\"'\"', open)(__file__) if os.path.exists(__file__) else io.StringIO('\"'\"'from setuptools import setup; setup()'\"'\"');code = f.read().replace('\"'\"'\\r\\n'\"'\"', '\"'\"'\\n'\"'\"');f.close();exec(compile(code, __file__, '\"'\"'exec'\"'\"'))' egg_info --egg-base 'C:\\Users\\Administrator\\AppData\\Local\\Temp\\pip-pip-egg-info-k9nd4ztz'\n",
      "         cwd: C:\\Users\\Administrator\\AppData\\Local\\Temp\\pip-install-q2cz2phg\\demjson_f072505875594d079a536e8b39c1224a\\\n",
      "    Complete output (1 lines):\n",
      "    error in demjson setup command: use_2to3 is invalid.\n",
      "    ----------------------------------------\n",
      "WARNING: Discarding https://files.pythonhosted.org/packages/83/91/bfcbc90ccd7f40dc30cdb11531cac42cc8d5f1b7dc4c8769064d029bf66c/demjson-2.2.tar.gz#sha256=2aaa78c4d6f08c1bbcb88babd18cb54bb3ba2446870088ca33581c69f603a3a2 (from https://pypi.org/simple/demjson/). Command errored out with exit status 1: python setup.py egg_info Check the logs for full command output.\n",
      "    ERROR: Command errored out with exit status 1:\n",
      "     command: 'D:\\Program_Files\\anaconda\\python.exe' -c 'import io, os, sys, setuptools, tokenize; sys.argv[0] = '\"'\"'C:\\\\Users\\\\Administrator\\\\AppData\\\\Local\\\\Temp\\\\pip-install-q2cz2phg\\\\demjson_febb683254f44f67aed06fc5e42c2c8a\\\\setup.py'\"'\"'; __file__='\"'\"'C:\\\\Users\\\\Administrator\\\\AppData\\\\Local\\\\Temp\\\\pip-install-q2cz2phg\\\\demjson_febb683254f44f67aed06fc5e42c2c8a\\\\setup.py'\"'\"';f = getattr(tokenize, '\"'\"'open'\"'\"', open)(__file__) if os.path.exists(__file__) else io.StringIO('\"'\"'from setuptools import setup; setup()'\"'\"');code = f.read().replace('\"'\"'\\r\\n'\"'\"', '\"'\"'\\n'\"'\"');f.close();exec(compile(code, __file__, '\"'\"'exec'\"'\"'))' egg_info --egg-base 'C:\\Users\\Administrator\\AppData\\Local\\Temp\\pip-pip-egg-info-8__afoqv'\n",
      "         cwd: C:\\Users\\Administrator\\AppData\\Local\\Temp\\pip-install-q2cz2phg\\demjson_febb683254f44f67aed06fc5e42c2c8a\\\n",
      "    Complete output (1 lines):\n",
      "    error in demjson setup command: use_2to3 is invalid.\n",
      "    ----------------------------------------\n",
      "WARNING: Discarding https://files.pythonhosted.org/packages/3d/57/d4eb1d97cf04b1c5b4378ab9d21174165fcdc0dfacf427c925c833ff0a67/demjson-2.0.1.tar.gz#sha256=572c755df5aec7ac3fde5535795b8bf71f54e4681196c97a7a97d81916293504 (from https://pypi.org/simple/demjson/). Command errored out with exit status 1: python setup.py egg_info Check the logs for full command output.\n",
      "    ERROR: Command errored out with exit status 1:\n",
      "     command: 'D:\\Program_Files\\anaconda\\python.exe' -c 'import io, os, sys, setuptools, tokenize; sys.argv[0] = '\"'\"'C:\\\\Users\\\\Administrator\\\\AppData\\\\Local\\\\Temp\\\\pip-install-q2cz2phg\\\\demjson_04d48fdc193e4b12843fc6bf6301ea26\\\\setup.py'\"'\"'; __file__='\"'\"'C:\\\\Users\\\\Administrator\\\\AppData\\\\Local\\\\Temp\\\\pip-install-q2cz2phg\\\\demjson_04d48fdc193e4b12843fc6bf6301ea26\\\\setup.py'\"'\"';f = getattr(tokenize, '\"'\"'open'\"'\"', open)(__file__) if os.path.exists(__file__) else io.StringIO('\"'\"'from setuptools import setup; setup()'\"'\"');code = f.read().replace('\"'\"'\\r\\n'\"'\"', '\"'\"'\\n'\"'\"');f.close();exec(compile(code, __file__, '\"'\"'exec'\"'\"'))' egg_info --egg-base 'C:\\Users\\Administrator\\AppData\\Local\\Temp\\pip-pip-egg-info-tjcxslms'\n",
      "         cwd: C:\\Users\\Administrator\\AppData\\Local\\Temp\\pip-install-q2cz2phg\\demjson_04d48fdc193e4b12843fc6bf6301ea26\\\n",
      "    Complete output (1 lines):\n",
      "    error in demjson setup command: use_2to3 is invalid.\n",
      "    ----------------------------------------\n",
      "WARNING: Discarding https://files.pythonhosted.org/packages/d3/77/7676b46bea919f999bd1072f5ab91f8110eaab720caea48c08dbd8195447/demjson-2.0.tar.gz#sha256=24f638daa0c28a9d44db2282d46ea3edfd4c7d11a656e38677b741620bf1483d (from https://pypi.org/simple/demjson/). Command errored out with exit status 1: python setup.py egg_info Check the logs for full command output.\n"
     ]
    }
   ],
   "source": [
    "pip install gopup"
   ]
  },
  {
   "cell_type": "code",
   "execution_count": 30,
   "id": "65c2e905",
   "metadata": {},
   "outputs": [],
   "source": [
    "import gopup as gp\n",
    "df_index = gp.weibo_index(word = \"过敏\", time_type =\"3month\")\n",
    "df_index.to_excel('data.xlsx')"
   ]
  },
  {
   "cell_type": "code",
   "execution_count": 31,
   "id": "f49046c7",
   "metadata": {},
   "outputs": [
    {
     "data": {
      "text/html": [
       "<div>\n",
       "<style scoped>\n",
       "    .dataframe tbody tr th:only-of-type {\n",
       "        vertical-align: middle;\n",
       "    }\n",
       "\n",
       "    .dataframe tbody tr th {\n",
       "        vertical-align: top;\n",
       "    }\n",
       "\n",
       "    .dataframe thead th {\n",
       "        text-align: right;\n",
       "    }\n",
       "</style>\n",
       "<table border=\"1\" class=\"dataframe\">\n",
       "  <thead>\n",
       "    <tr style=\"text-align: right;\">\n",
       "      <th></th>\n",
       "      <th>月份</th>\n",
       "      <th>同比增长%</th>\n",
       "      <th>累计增长%</th>\n",
       "    </tr>\n",
       "  </thead>\n",
       "  <tbody>\n",
       "    <tr>\n",
       "      <th>0</th>\n",
       "      <td>2022-03-01</td>\n",
       "      <td>5</td>\n",
       "      <td>6.5</td>\n",
       "    </tr>\n",
       "    <tr>\n",
       "      <th>1</th>\n",
       "      <td>2022-02-01</td>\n",
       "      <td>0</td>\n",
       "      <td>7.5</td>\n",
       "    </tr>\n",
       "    <tr>\n",
       "      <th>2</th>\n",
       "      <td>2021-12-01</td>\n",
       "      <td>4.3</td>\n",
       "      <td>9.6</td>\n",
       "    </tr>\n",
       "    <tr>\n",
       "      <th>3</th>\n",
       "      <td>2021-11-01</td>\n",
       "      <td>3.8</td>\n",
       "      <td>10.1</td>\n",
       "    </tr>\n",
       "    <tr>\n",
       "      <th>4</th>\n",
       "      <td>2021-10-01</td>\n",
       "      <td>3.5</td>\n",
       "      <td>10.9</td>\n",
       "    </tr>\n",
       "    <tr>\n",
       "      <th>...</th>\n",
       "      <td>...</td>\n",
       "      <td>...</td>\n",
       "      <td>...</td>\n",
       "    </tr>\n",
       "    <tr>\n",
       "      <th>151</th>\n",
       "      <td>2008-06-01</td>\n",
       "      <td>16</td>\n",
       "      <td>16.3</td>\n",
       "    </tr>\n",
       "    <tr>\n",
       "      <th>152</th>\n",
       "      <td>2008-05-01</td>\n",
       "      <td>16</td>\n",
       "      <td>16.3</td>\n",
       "    </tr>\n",
       "    <tr>\n",
       "      <th>153</th>\n",
       "      <td>2008-04-01</td>\n",
       "      <td>15.7</td>\n",
       "      <td>16.3</td>\n",
       "    </tr>\n",
       "    <tr>\n",
       "      <th>154</th>\n",
       "      <td>2008-03-01</td>\n",
       "      <td>17.8</td>\n",
       "      <td>16.4</td>\n",
       "    </tr>\n",
       "    <tr>\n",
       "      <th>155</th>\n",
       "      <td>2008-02-01</td>\n",
       "      <td>15.4</td>\n",
       "      <td>15.4</td>\n",
       "    </tr>\n",
       "  </tbody>\n",
       "</table>\n",
       "<p>156 rows × 3 columns</p>\n",
       "</div>"
      ],
      "text/plain": [
       "             月份 同比增长% 累计增长%\n",
       "0    2022-03-01     5   6.5\n",
       "1    2022-02-01     0   7.5\n",
       "2    2021-12-01   4.3   9.6\n",
       "3    2021-11-01   3.8  10.1\n",
       "4    2021-10-01   3.5  10.9\n",
       "..          ...   ...   ...\n",
       "151  2008-06-01    16  16.3\n",
       "152  2008-05-01    16  16.3\n",
       "153  2008-04-01  15.7  16.3\n",
       "154  2008-03-01  17.8  16.4\n",
       "155  2008-02-01  15.4  15.4\n",
       "\n",
       "[156 rows x 3 columns]"
      ]
     },
     "execution_count": 31,
     "metadata": {},
     "output_type": "execute_result"
    }
   ],
   "source": [
    "df_index = gp.get_industrial_growth()\n",
    "df_index"
   ]
  },
  {
   "cell_type": "code",
   "execution_count": 35,
   "id": "03496803",
   "metadata": {},
   "outputs": [
    {
     "name": "stdout",
     "output_type": "stream",
     "text": [
      "                                                 link  \\\n",
      "0   http://weixin.sogou.com/api/share?timestamp=16...   \n",
      "1   http://weixin.sogou.com/api/share?timestamp=16...   \n",
      "2   http://weixin.sogou.com/api/share?timestamp=16...   \n",
      "3   http://weixin.sogou.com/api/share?timestamp=16...   \n",
      "4   http://weixin.sogou.com/api/share?timestamp=16...   \n",
      "5   http://weixin.sogou.com/api/share?timestamp=16...   \n",
      "6   http://weixin.sogou.com/api/share?timestamp=16...   \n",
      "7   http://weixin.sogou.com/api/share?timestamp=16...   \n",
      "8   http://weixin.sogou.com/api/share?timestamp=16...   \n",
      "9   http://weixin.sogou.com/api/share?timestamp=16...   \n",
      "10  http://weixin.sogou.com/api/share?timestamp=16...   \n",
      "11  http://weixin.sogou.com/api/share?timestamp=16...   \n",
      "12  http://weixin.sogou.com/api/share?timestamp=16...   \n",
      "13  http://weixin.sogou.com/api/share?timestamp=16...   \n",
      "14  http://weixin.sogou.com/api/share?timestamp=16...   \n",
      "15  http://weixin.sogou.com/api/share?timestamp=16...   \n",
      "16  http://weixin.sogou.com/api/share?timestamp=16...   \n",
      "17  http://weixin.sogou.com/api/share?timestamp=16...   \n",
      "18  http://weixin.sogou.com/api/share?timestamp=16...   \n",
      "19  http://weixin.sogou.com/api/share?timestamp=16...   \n",
      "\n",
      "                           title  \\\n",
      "0                不得以等待核酸结果为由限制通行   \n",
      "1                 对拐卖妇女知情不报或将违法!   \n",
      "2            《听我说谢谢你》原作道歉!恳请网友..   \n",
      "3                 “属实”!中科院回应停用知网   \n",
      "4                       今天，正式揭牌!   \n",
      "5                          4.8%!   \n",
      "6             十九届中央第七轮巡视整改进展情况综述   \n",
      "7         新增本土2723+20639例，在这些地方!   \n",
      "8   [8点见]封控10天后，句容市给宝华镇居民的这封信火了!   \n",
      "9                  “警容不整”?网友却怒赞!   \n",
      "10                    你比你妈更容易被骗!   \n",
      "11                        2人被查……   \n",
      "12                 在山东，你想让谁飞谁就能飞   \n",
      "13            上海如何尽快实现社会面“动态清零”?   \n",
      "14                   警惕!这个外来入侵物种   \n",
      "15    第三批来了!十九届中央第七轮巡视整改进展情况全部公布   \n",
      "16       “快递疫情链”已有82例感染者 多地紧急提醒!   \n",
      "17       丈夫阳性，家人零感染!上海女子“教科书级”操作   \n",
      "18                    注意，下周日要上班!   \n",
      "19    被姐夫投毒百草枯女孩属重伤一级，早日返校是其最大心愿   \n",
      "\n",
      "                                          description  \\\n",
      "0   刘鹤出席全国保障物流畅通促进产业链供应链稳定电视电话会议并讲话　部署十项重要举措　要求努力实...   \n",
      "1   妇女权益保障法修订草案18日提请全国人大常委会会议二次审议，拟建立拐卖妇女等侵权行为强制报告...   \n",
      "2   “听我说谢谢你，因为有你，温暖了四季！”你最近有没有被这段旋律和歌词洗脑？最近，这首歌曾多次...   \n",
      "3   近日，一则落款为中国科学院“文献信息中心”的邮件在网上流传。该邮件指责知网近“千万级别”的续...   \n",
      "4   4月18日，国家植物园在北京正式揭牌。此次设立的国家植物园，是在中科院植物研究所和北京市植物...   \n",
      "5   国家统计局18日发布数据初步核算一季度中国国内生产总值270178亿元同比增长4.8%多重风...   \n",
      "6   坚决扛起巡视整改重大政治责任十九届中央第七轮巡视整改进展情况综述　　中央纪委国家监委网站 吕...   \n",
      "7   4月17日0—24时，31个省（自治区、直辖市）和新疆生产建设兵团报告新增确诊病例2742例...   \n",
      "8   聚焦时间表定了！2022年我国将实施6次飞行任务，完成空间站在轨建造。十九届中央第七轮巡视整...   \n",
      "9   近日这样的一段短视频火了一位90后警察处警归来被发现“警容不整”但大家却纷纷为他点赞这是怎么...   \n",
      "10  如果你觉得老年人更容易被骗，说明你还太年轻。 国家反诈中心公布的数据显示，在2021年电信网...   \n",
      "11  2022年4月17日，截至21时，中央纪委国家监委网站受权发布信息：2人被查，6起问责案例。...   \n",
      "12   新闻哥(ID:newsbro) | 来源小白 | 作者孟夏 | 编辑曾几何时，小编也曾有个放风筝   \n",
      "13  当前，上海本轮疫情仍在高位运行。作为特大城市，上海人口密度大，人流、物流频繁，实现“动态清零...   \n",
      "14  半月谈记者在湖南农村地区走访发现，“能生、嗜吃”的外来入侵物种——福寿螺悄然肆虐蔓延，对农业...   \n",
      "15  　　根据党中央统一部署，2021年5月至7月，十九届中央第七轮巡视对教育部和31所中管高校党...   \n",
      "16  截至4月16日24时，“山西太原清徐韵达快递疫情链”累计确诊14例、无症状感染者68例，涉及...   \n",
      "17  丈夫出现了咳嗽、发烧的症状随后抗原自测异常、核酸检测阳性……从身体不适到转运隔离的几天里这家...   \n",
      "18  最近听说有小伙伴已经安排了下周末计划小编提醒大家4月24日（星期日）要！上！班！要！上！班！...   \n",
      "19  在阔别大家视线3个多月后，被姐夫投毒百草枯，在广大网友助力下成功换肺的女孩萌萌，再次出现在记...   \n",
      "\n",
      "                                                  img  ranking  \n",
      "0   //img01.sogoucdn.com/v2/thumb?appid=201147&url...        1  \n",
      "1   //img01.sogoucdn.com/v2/thumb?appid=201147&url...        2  \n",
      "2   //img02.sogoucdn.com/v2/thumb?appid=201147&url...        3  \n",
      "3   //img04.sogoucdn.com/v2/thumb?appid=201147&url...        4  \n",
      "4   //img03.sogoucdn.com/v2/thumb?appid=201147&url...        5  \n",
      "5   //img04.sogoucdn.com/v2/thumb?appid=201147&url...        6  \n",
      "6   //img01.sogoucdn.com/v2/thumb?appid=201147&url...        7  \n",
      "7   //img01.sogoucdn.com/v2/thumb?appid=201147&url...        8  \n",
      "8   //img04.sogoucdn.com/v2/thumb?appid=201147&url...        9  \n",
      "9   //img03.sogoucdn.com/v2/thumb?appid=201147&url...       10  \n",
      "10  //img02.sogoucdn.com/v2/thumb?appid=201147&url...       11  \n",
      "11  //img01.sogoucdn.com/v2/thumb?appid=201147&url...       12  \n",
      "12  //img02.sogoucdn.com/v2/thumb?appid=201147&url...       13  \n",
      "13  //img01.sogoucdn.com/v2/thumb?appid=201147&url...       14  \n",
      "14  //img02.sogoucdn.com/v2/thumb?appid=201147&url...       15  \n",
      "15  //img04.sogoucdn.com/v2/thumb?appid=201147&url...       16  \n",
      "16  //img02.sogoucdn.com/v2/thumb?appid=201147&url...       17  \n",
      "17  //img03.sogoucdn.com/v2/thumb?appid=201147&url...       18  \n",
      "18  //img03.sogoucdn.com/v2/thumb?appid=201147&url...       19  \n",
      "19  //img04.sogoucdn.com/v2/thumb?appid=201147&url...       20  \n"
     ]
    }
   ],
   "source": [
    "df_index = gp.wx_hot_list()\n",
    "print(df_index)"
   ]
  },
  {
   "cell_type": "code",
   "execution_count": null,
   "id": "3658a374",
   "metadata": {},
   "outputs": [],
   "source": []
  }
 ],
 "metadata": {
  "kernelspec": {
   "display_name": "Python 3 (ipykernel)",
   "language": "python",
   "name": "python3"
  },
  "language_info": {
   "codemirror_mode": {
    "name": "ipython",
    "version": 3
   },
   "file_extension": ".py",
   "mimetype": "text/x-python",
   "name": "python",
   "nbconvert_exporter": "python",
   "pygments_lexer": "ipython3",
   "version": "3.9.7"
  }
 },
 "nbformat": 4,
 "nbformat_minor": 5
}
